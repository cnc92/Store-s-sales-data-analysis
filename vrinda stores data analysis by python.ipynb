{
 "cells": [
  {
   "cell_type": "markdown",
   "id": "aa8d2fab",
   "metadata": {},
   "source": [
    "# Vrinda Stores Sales Data Analysis"
   ]
  },
  {
   "cell_type": "markdown",
   "id": "00677781",
   "metadata": {},
   "source": [
    "### For analysing the sales data we have to import these particular Python libraries :"
   ]
  },
  {
   "cell_type": "code",
   "execution_count": 25,
   "id": "ea4a6615",
   "metadata": {},
   "outputs": [],
   "source": [
    "import numpy as np\n",
    "import pandas as pd\n",
    "import matplotlib.pyplot as plt\n",
    "%matplotlib inline\n",
    "import seaborn as sns"
   ]
  },
  {
   "cell_type": "markdown",
   "id": "8fe06324",
   "metadata": {},
   "source": [
    "#### To read .csv file from the mentioned path and location :"
   ]
  },
  {
   "cell_type": "code",
   "execution_count": 26,
   "id": "55a78afb",
   "metadata": {},
   "outputs": [],
   "source": [
    "df = pd.read_csv(r'C:\\Users\\91905\\Desktop\\analysis\\vrinda stores data analysis by python.csv')"
   ]
  },
  {
   "cell_type": "markdown",
   "id": "aa84f7a8",
   "metadata": {},
   "source": [
    "#### To viewing all Rows and Columns from the dataset :"
   ]
  },
  {
   "cell_type": "code",
   "execution_count": 27,
   "id": "4eb76f00",
   "metadata": {},
   "outputs": [
    {
     "data": {
      "text/plain": [
       "(31047, 19)"
      ]
     },
     "execution_count": 27,
     "metadata": {},
     "output_type": "execute_result"
    }
   ],
   "source": [
    "df.shape"
   ]
  },
  {
   "cell_type": "markdown",
   "id": "e933a239",
   "metadata": {},
   "source": [
    "#### To viewing data from Top asper entries we use df.head(), and if we want to see it from bottom we use df.tail() :"
   ]
  },
  {
   "cell_type": "code",
   "execution_count": 28,
   "id": "99cb6342",
   "metadata": {},
   "outputs": [
    {
     "data": {
      "text/html": [
       "<div>\n",
       "<style scoped>\n",
       "    .dataframe tbody tr th:only-of-type {\n",
       "        vertical-align: middle;\n",
       "    }\n",
       "\n",
       "    .dataframe tbody tr th {\n",
       "        vertical-align: top;\n",
       "    }\n",
       "\n",
       "    .dataframe thead th {\n",
       "        text-align: right;\n",
       "    }\n",
       "</style>\n",
       "<table border=\"1\" class=\"dataframe\">\n",
       "  <thead>\n",
       "    <tr style=\"text-align: right;\">\n",
       "      <th></th>\n",
       "      <th>index</th>\n",
       "      <th>Order ID</th>\n",
       "      <th>Cust ID</th>\n",
       "      <th>Gender</th>\n",
       "      <th>Age</th>\n",
       "      <th>Age Group</th>\n",
       "      <th>Date</th>\n",
       "      <th>Status</th>\n",
       "      <th>Channel</th>\n",
       "      <th>SKU</th>\n",
       "      <th>Category</th>\n",
       "      <th>Size</th>\n",
       "      <th>Qty</th>\n",
       "      <th>currency</th>\n",
       "      <th>Amount</th>\n",
       "      <th>ship-city</th>\n",
       "      <th>ship-state</th>\n",
       "      <th>ship-postal-code</th>\n",
       "      <th>ship-country</th>\n",
       "    </tr>\n",
       "  </thead>\n",
       "  <tbody>\n",
       "    <tr>\n",
       "      <th>0</th>\n",
       "      <td>1</td>\n",
       "      <td>171-1029312-3038738</td>\n",
       "      <td>1029312</td>\n",
       "      <td>Women</td>\n",
       "      <td>44</td>\n",
       "      <td>Adult</td>\n",
       "      <td>04-12-2022</td>\n",
       "      <td>Delivered</td>\n",
       "      <td>Myntra</td>\n",
       "      <td>JNE1233-BLUE-KR-031-XXL</td>\n",
       "      <td>kurta</td>\n",
       "      <td>XXL</td>\n",
       "      <td>1</td>\n",
       "      <td>INR</td>\n",
       "      <td>376</td>\n",
       "      <td>MOHALI</td>\n",
       "      <td>PUNJAB</td>\n",
       "      <td>140301</td>\n",
       "      <td>IN</td>\n",
       "    </tr>\n",
       "    <tr>\n",
       "      <th>1</th>\n",
       "      <td>2</td>\n",
       "      <td>405-2183842-2225946</td>\n",
       "      <td>2183842</td>\n",
       "      <td>Women</td>\n",
       "      <td>29</td>\n",
       "      <td>Teenager</td>\n",
       "      <td>04-12-2022</td>\n",
       "      <td>Delivered</td>\n",
       "      <td>Ajio</td>\n",
       "      <td>SET414-KR-NP-L</td>\n",
       "      <td>Set</td>\n",
       "      <td>L</td>\n",
       "      <td>1</td>\n",
       "      <td>INR</td>\n",
       "      <td>1449</td>\n",
       "      <td>GURUGRAM</td>\n",
       "      <td>HARYANA</td>\n",
       "      <td>122002</td>\n",
       "      <td>IN</td>\n",
       "    </tr>\n",
       "    <tr>\n",
       "      <th>2</th>\n",
       "      <td>3</td>\n",
       "      <td>171-1641533-8921966</td>\n",
       "      <td>1641533</td>\n",
       "      <td>Women</td>\n",
       "      <td>67</td>\n",
       "      <td>Senior</td>\n",
       "      <td>04-12-2022</td>\n",
       "      <td>Delivered</td>\n",
       "      <td>Myntra</td>\n",
       "      <td>SET261-KR-PP-S</td>\n",
       "      <td>Set</td>\n",
       "      <td>S</td>\n",
       "      <td>1</td>\n",
       "      <td>INR</td>\n",
       "      <td>453</td>\n",
       "      <td>KOLKATA</td>\n",
       "      <td>WEST BENGAL</td>\n",
       "      <td>700029</td>\n",
       "      <td>IN</td>\n",
       "    </tr>\n",
       "    <tr>\n",
       "      <th>3</th>\n",
       "      <td>4</td>\n",
       "      <td>404-7490807-6300351</td>\n",
       "      <td>7490807</td>\n",
       "      <td>Women</td>\n",
       "      <td>20</td>\n",
       "      <td>Teenager</td>\n",
       "      <td>04-12-2022</td>\n",
       "      <td>Delivered</td>\n",
       "      <td>Amazon</td>\n",
       "      <td>SET110-KR-PP-M</td>\n",
       "      <td>Set</td>\n",
       "      <td>M</td>\n",
       "      <td>1</td>\n",
       "      <td>INR</td>\n",
       "      <td>729</td>\n",
       "      <td>THANJAVUR</td>\n",
       "      <td>TAMIL NADU</td>\n",
       "      <td>613007</td>\n",
       "      <td>IN</td>\n",
       "    </tr>\n",
       "    <tr>\n",
       "      <th>4</th>\n",
       "      <td>5</td>\n",
       "      <td>403-9293516-4577154</td>\n",
       "      <td>9293516</td>\n",
       "      <td>Women</td>\n",
       "      <td>62</td>\n",
       "      <td>Senior</td>\n",
       "      <td>04-12-2022</td>\n",
       "      <td>Delivered</td>\n",
       "      <td>Myntra</td>\n",
       "      <td>JNE2294-KR-A-XXL</td>\n",
       "      <td>kurta</td>\n",
       "      <td>XXL</td>\n",
       "      <td>1</td>\n",
       "      <td>INR</td>\n",
       "      <td>544</td>\n",
       "      <td>GURUGRAM</td>\n",
       "      <td>HARYANA</td>\n",
       "      <td>122001</td>\n",
       "      <td>IN</td>\n",
       "    </tr>\n",
       "  </tbody>\n",
       "</table>\n",
       "</div>"
      ],
      "text/plain": [
       "   index             Order ID  Cust ID Gender  Age Age Group        Date  \\\n",
       "0      1  171-1029312-3038738  1029312  Women   44     Adult  04-12-2022   \n",
       "1      2  405-2183842-2225946  2183842  Women   29  Teenager  04-12-2022   \n",
       "2      3  171-1641533-8921966  1641533  Women   67    Senior  04-12-2022   \n",
       "3      4  404-7490807-6300351  7490807  Women   20  Teenager  04-12-2022   \n",
       "4      5  403-9293516-4577154  9293516  Women   62    Senior  04-12-2022   \n",
       "\n",
       "      Status Channel                       SKU Category Size  Qty currency  \\\n",
       "0  Delivered   Myntra  JNE1233-BLUE-KR-031-XXL    kurta  XXL    1      INR   \n",
       "1  Delivered     Ajio           SET414-KR-NP-L      Set    L    1      INR   \n",
       "2  Delivered   Myntra           SET261-KR-PP-S      Set    S    1      INR   \n",
       "3  Delivered   Amazon           SET110-KR-PP-M      Set    M    1      INR   \n",
       "4  Delivered   Myntra         JNE2294-KR-A-XXL    kurta  XXL    1      INR   \n",
       "\n",
       "   Amount  ship-city   ship-state  ship-postal-code ship-country  \n",
       "0     376     MOHALI       PUNJAB            140301           IN  \n",
       "1    1449   GURUGRAM      HARYANA            122002           IN  \n",
       "2     453    KOLKATA  WEST BENGAL            700029           IN  \n",
       "3     729  THANJAVUR   TAMIL NADU            613007           IN  \n",
       "4     544   GURUGRAM      HARYANA            122001           IN  "
      ]
     },
     "execution_count": 28,
     "metadata": {},
     "output_type": "execute_result"
    }
   ],
   "source": [
    "df.head()"
   ]
  },
  {
   "cell_type": "code",
   "execution_count": 29,
   "id": "a8d95f96",
   "metadata": {},
   "outputs": [
    {
     "data": {
      "text/html": [
       "<div>\n",
       "<style scoped>\n",
       "    .dataframe tbody tr th:only-of-type {\n",
       "        vertical-align: middle;\n",
       "    }\n",
       "\n",
       "    .dataframe tbody tr th {\n",
       "        vertical-align: top;\n",
       "    }\n",
       "\n",
       "    .dataframe thead th {\n",
       "        text-align: right;\n",
       "    }\n",
       "</style>\n",
       "<table border=\"1\" class=\"dataframe\">\n",
       "  <thead>\n",
       "    <tr style=\"text-align: right;\">\n",
       "      <th></th>\n",
       "      <th>index</th>\n",
       "      <th>Order ID</th>\n",
       "      <th>Cust ID</th>\n",
       "      <th>Gender</th>\n",
       "      <th>Age</th>\n",
       "      <th>Age Group</th>\n",
       "      <th>Date</th>\n",
       "      <th>Status</th>\n",
       "      <th>Channel</th>\n",
       "      <th>SKU</th>\n",
       "      <th>Category</th>\n",
       "      <th>Size</th>\n",
       "      <th>Qty</th>\n",
       "      <th>currency</th>\n",
       "      <th>Amount</th>\n",
       "      <th>ship-city</th>\n",
       "      <th>ship-state</th>\n",
       "      <th>ship-postal-code</th>\n",
       "      <th>ship-country</th>\n",
       "    </tr>\n",
       "  </thead>\n",
       "  <tbody>\n",
       "    <tr>\n",
       "      <th>31042</th>\n",
       "      <td>31043</td>\n",
       "      <td>405-4724097-1016369</td>\n",
       "      <td>4724097</td>\n",
       "      <td>Men</td>\n",
       "      <td>60</td>\n",
       "      <td>Senior</td>\n",
       "      <td>06-01-2022</td>\n",
       "      <td>Delivered</td>\n",
       "      <td>Flipkart</td>\n",
       "      <td>J0083-KR-XL</td>\n",
       "      <td>kurta</td>\n",
       "      <td>XL</td>\n",
       "      <td>1</td>\n",
       "      <td>INR</td>\n",
       "      <td>565</td>\n",
       "      <td>PUNE</td>\n",
       "      <td>MAHARASHTRA</td>\n",
       "      <td>412307</td>\n",
       "      <td>IN</td>\n",
       "    </tr>\n",
       "    <tr>\n",
       "      <th>31043</th>\n",
       "      <td>31044</td>\n",
       "      <td>405-4724097-1016369</td>\n",
       "      <td>4724097</td>\n",
       "      <td>Men</td>\n",
       "      <td>34</td>\n",
       "      <td>Adult</td>\n",
       "      <td>06-01-2022</td>\n",
       "      <td>Delivered</td>\n",
       "      <td>Myntra</td>\n",
       "      <td>J0010-LCD-S</td>\n",
       "      <td>Set</td>\n",
       "      <td>S</td>\n",
       "      <td>1</td>\n",
       "      <td>INR</td>\n",
       "      <td>939</td>\n",
       "      <td>BENGALURU</td>\n",
       "      <td>KARNATAKA</td>\n",
       "      <td>560061</td>\n",
       "      <td>IN</td>\n",
       "    </tr>\n",
       "    <tr>\n",
       "      <th>31044</th>\n",
       "      <td>31045</td>\n",
       "      <td>408-3572295-5992330</td>\n",
       "      <td>3572295</td>\n",
       "      <td>Men</td>\n",
       "      <td>29</td>\n",
       "      <td>Teenager</td>\n",
       "      <td>06-01-2022</td>\n",
       "      <td>Delivered</td>\n",
       "      <td>Amazon</td>\n",
       "      <td>SET398-KR-PP-L</td>\n",
       "      <td>Set</td>\n",
       "      <td>L</td>\n",
       "      <td>1</td>\n",
       "      <td>INR</td>\n",
       "      <td>1115</td>\n",
       "      <td>PITHORAGARH</td>\n",
       "      <td>UTTARAKHAND</td>\n",
       "      <td>262501</td>\n",
       "      <td>IN</td>\n",
       "    </tr>\n",
       "    <tr>\n",
       "      <th>31045</th>\n",
       "      <td>31046</td>\n",
       "      <td>405-1423498-9705162</td>\n",
       "      <td>1423498</td>\n",
       "      <td>Men</td>\n",
       "      <td>46</td>\n",
       "      <td>Adult</td>\n",
       "      <td>06-01-2022</td>\n",
       "      <td>Delivered</td>\n",
       "      <td>Amazon</td>\n",
       "      <td>JNE3568-KR-M</td>\n",
       "      <td>kurta</td>\n",
       "      <td>M</td>\n",
       "      <td>1</td>\n",
       "      <td>INR</td>\n",
       "      <td>399</td>\n",
       "      <td>DHULE</td>\n",
       "      <td>MAHARASHTRA</td>\n",
       "      <td>424006</td>\n",
       "      <td>IN</td>\n",
       "    </tr>\n",
       "    <tr>\n",
       "      <th>31046</th>\n",
       "      <td>31047</td>\n",
       "      <td>408-4694875-8249153</td>\n",
       "      <td>4694875</td>\n",
       "      <td>Men</td>\n",
       "      <td>36</td>\n",
       "      <td>Adult</td>\n",
       "      <td>06-01-2022</td>\n",
       "      <td>Delivered</td>\n",
       "      <td>Flipkart</td>\n",
       "      <td>J0341-DR-XXXL</td>\n",
       "      <td>Western Dress</td>\n",
       "      <td>3XL</td>\n",
       "      <td>1</td>\n",
       "      <td>INR</td>\n",
       "      <td>791</td>\n",
       "      <td>WARANGAL</td>\n",
       "      <td>TELANGANA</td>\n",
       "      <td>506001</td>\n",
       "      <td>IN</td>\n",
       "    </tr>\n",
       "  </tbody>\n",
       "</table>\n",
       "</div>"
      ],
      "text/plain": [
       "       index             Order ID  Cust ID Gender  Age Age Group        Date  \\\n",
       "31042  31043  405-4724097-1016369  4724097    Men   60    Senior  06-01-2022   \n",
       "31043  31044  405-4724097-1016369  4724097    Men   34     Adult  06-01-2022   \n",
       "31044  31045  408-3572295-5992330  3572295    Men   29  Teenager  06-01-2022   \n",
       "31045  31046  405-1423498-9705162  1423498    Men   46     Adult  06-01-2022   \n",
       "31046  31047  408-4694875-8249153  4694875    Men   36     Adult  06-01-2022   \n",
       "\n",
       "          Status  Channel              SKU       Category Size  Qty currency  \\\n",
       "31042  Delivered  Flipkart     J0083-KR-XL          kurta   XL    1      INR   \n",
       "31043  Delivered    Myntra     J0010-LCD-S            Set    S    1      INR   \n",
       "31044  Delivered    Amazon  SET398-KR-PP-L            Set    L    1      INR   \n",
       "31045  Delivered    Amazon    JNE3568-KR-M          kurta    M    1      INR   \n",
       "31046  Delivered  Flipkart   J0341-DR-XXXL  Western Dress  3XL    1      INR   \n",
       "\n",
       "       Amount    ship-city   ship-state  ship-postal-code ship-country  \n",
       "31042     565         PUNE  MAHARASHTRA            412307           IN  \n",
       "31043     939    BENGALURU    KARNATAKA            560061           IN  \n",
       "31044    1115  PITHORAGARH  UTTARAKHAND            262501           IN  \n",
       "31045     399        DHULE  MAHARASHTRA            424006           IN  \n",
       "31046     791     WARANGAL    TELANGANA            506001           IN  "
      ]
     },
     "execution_count": 29,
     "metadata": {},
     "output_type": "execute_result"
    }
   ],
   "source": [
    "df.tail()"
   ]
  },
  {
   "cell_type": "markdown",
   "id": "30e211ff",
   "metadata": {},
   "source": [
    "#### To view COLUMN NAME, NON-NULL value COUNTS, DATA TYPE which are used in those specified COLUMNS :"
   ]
  },
  {
   "cell_type": "code",
   "execution_count": 30,
   "id": "0bdcdc27",
   "metadata": {},
   "outputs": [
    {
     "name": "stdout",
     "output_type": "stream",
     "text": [
      "<class 'pandas.core.frame.DataFrame'>\n",
      "RangeIndex: 31047 entries, 0 to 31046\n",
      "Data columns (total 19 columns):\n",
      " #   Column            Non-Null Count  Dtype \n",
      "---  ------            --------------  ----- \n",
      " 0   index             31047 non-null  int64 \n",
      " 1   Order ID          31047 non-null  object\n",
      " 2   Cust ID           31047 non-null  int64 \n",
      " 3   Gender            31047 non-null  object\n",
      " 4   Age               31047 non-null  int64 \n",
      " 5   Age Group         31047 non-null  object\n",
      " 6   Date              31047 non-null  object\n",
      " 7   Status            31047 non-null  object\n",
      " 8   Channel           31047 non-null  object\n",
      " 9   SKU               31047 non-null  object\n",
      " 10  Category          31047 non-null  object\n",
      " 11  Size              31047 non-null  object\n",
      " 12  Qty               31047 non-null  int64 \n",
      " 13  currency          31047 non-null  object\n",
      " 14  Amount            31047 non-null  int64 \n",
      " 15  ship-city         31047 non-null  object\n",
      " 16  ship-state        31047 non-null  object\n",
      " 17  ship-postal-code  31047 non-null  int64 \n",
      " 18  ship-country      31047 non-null  object\n",
      "dtypes: int64(6), object(13)\n",
      "memory usage: 4.5+ MB\n"
     ]
    }
   ],
   "source": [
    "df.info()"
   ]
  },
  {
   "cell_type": "markdown",
   "id": "23b89c31",
   "metadata": {},
   "source": [
    "#### To 'DELETE' a whole column from the 'DATA FRAME'(df) we use 'drop'. To save the DATA FRAME(df) after any action we use 'inplace = True'."
   ]
  },
  {
   "cell_type": "code",
   "execution_count": 31,
   "id": "bdcc0d33",
   "metadata": {},
   "outputs": [],
   "source": [
    "df.drop(['SKU'], axis = 1, inplace = True)"
   ]
  },
  {
   "cell_type": "markdown",
   "id": "c9704daf",
   "metadata": {},
   "source": [
    "#### To view COLUMN NAME, NON-NULL values Count, DATA TYPE which are used in those specified COLUMNS :"
   ]
  },
  {
   "cell_type": "code",
   "execution_count": 36,
   "id": "1c44c3f7",
   "metadata": {},
   "outputs": [
    {
     "name": "stdout",
     "output_type": "stream",
     "text": [
      "<class 'pandas.core.frame.DataFrame'>\n",
      "RangeIndex: 31047 entries, 0 to 31046\n",
      "Data columns (total 18 columns):\n",
      " #   Column         Non-Null Count  Dtype \n",
      "---  ------         --------------  ----- \n",
      " 0   index          31047 non-null  int64 \n",
      " 1   Order ID       31047 non-null  object\n",
      " 2   Cust ID        31047 non-null  int64 \n",
      " 3   Gender         31047 non-null  object\n",
      " 4   Age            31047 non-null  int64 \n",
      " 5   Age Group      31047 non-null  object\n",
      " 6   Date           31047 non-null  object\n",
      " 7   Status         31047 non-null  object\n",
      " 8   Channel        31047 non-null  object\n",
      " 9   Category       31047 non-null  object\n",
      " 10  Size           31047 non-null  object\n",
      " 11  Qty            31047 non-null  int64 \n",
      " 12  currency       31047 non-null  object\n",
      " 13  Amount         31047 non-null  int64 \n",
      " 14  ship-city      31047 non-null  object\n",
      " 15  ship-state     31047 non-null  object\n",
      " 16  ship-zip-code  31047 non-null  int64 \n",
      " 17  ship-country   31047 non-null  object\n",
      "dtypes: int64(6), object(12)\n",
      "memory usage: 4.3+ MB\n"
     ]
    }
   ],
   "source": [
    "df.info()"
   ]
  },
  {
   "cell_type": "markdown",
   "id": "06bc14e1",
   "metadata": {},
   "source": [
    "#### To view 'NULLS'. If any 'NULL' value is there then it will show 'TRUE', otherwise it will show 'FALSE' :"
   ]
  },
  {
   "cell_type": "markdown",
   "id": "0f3e3eb2",
   "metadata": {},
   "source": [
    "#### For data cleaning and manipulating we have to use \"PANDAS\"(pd) library from Python :"
   ]
  },
  {
   "cell_type": "code",
   "execution_count": 32,
   "id": "5cb16fee",
   "metadata": {},
   "outputs": [
    {
     "data": {
      "text/html": [
       "<div>\n",
       "<style scoped>\n",
       "    .dataframe tbody tr th:only-of-type {\n",
       "        vertical-align: middle;\n",
       "    }\n",
       "\n",
       "    .dataframe tbody tr th {\n",
       "        vertical-align: top;\n",
       "    }\n",
       "\n",
       "    .dataframe thead th {\n",
       "        text-align: right;\n",
       "    }\n",
       "</style>\n",
       "<table border=\"1\" class=\"dataframe\">\n",
       "  <thead>\n",
       "    <tr style=\"text-align: right;\">\n",
       "      <th></th>\n",
       "      <th>index</th>\n",
       "      <th>Order ID</th>\n",
       "      <th>Cust ID</th>\n",
       "      <th>Gender</th>\n",
       "      <th>Age</th>\n",
       "      <th>Age Group</th>\n",
       "      <th>Date</th>\n",
       "      <th>Status</th>\n",
       "      <th>Channel</th>\n",
       "      <th>Category</th>\n",
       "      <th>Size</th>\n",
       "      <th>Qty</th>\n",
       "      <th>currency</th>\n",
       "      <th>Amount</th>\n",
       "      <th>ship-city</th>\n",
       "      <th>ship-state</th>\n",
       "      <th>ship-postal-code</th>\n",
       "      <th>ship-country</th>\n",
       "    </tr>\n",
       "  </thead>\n",
       "  <tbody>\n",
       "    <tr>\n",
       "      <th>0</th>\n",
       "      <td>False</td>\n",
       "      <td>False</td>\n",
       "      <td>False</td>\n",
       "      <td>False</td>\n",
       "      <td>False</td>\n",
       "      <td>False</td>\n",
       "      <td>False</td>\n",
       "      <td>False</td>\n",
       "      <td>False</td>\n",
       "      <td>False</td>\n",
       "      <td>False</td>\n",
       "      <td>False</td>\n",
       "      <td>False</td>\n",
       "      <td>False</td>\n",
       "      <td>False</td>\n",
       "      <td>False</td>\n",
       "      <td>False</td>\n",
       "      <td>False</td>\n",
       "    </tr>\n",
       "    <tr>\n",
       "      <th>1</th>\n",
       "      <td>False</td>\n",
       "      <td>False</td>\n",
       "      <td>False</td>\n",
       "      <td>False</td>\n",
       "      <td>False</td>\n",
       "      <td>False</td>\n",
       "      <td>False</td>\n",
       "      <td>False</td>\n",
       "      <td>False</td>\n",
       "      <td>False</td>\n",
       "      <td>False</td>\n",
       "      <td>False</td>\n",
       "      <td>False</td>\n",
       "      <td>False</td>\n",
       "      <td>False</td>\n",
       "      <td>False</td>\n",
       "      <td>False</td>\n",
       "      <td>False</td>\n",
       "    </tr>\n",
       "    <tr>\n",
       "      <th>2</th>\n",
       "      <td>False</td>\n",
       "      <td>False</td>\n",
       "      <td>False</td>\n",
       "      <td>False</td>\n",
       "      <td>False</td>\n",
       "      <td>False</td>\n",
       "      <td>False</td>\n",
       "      <td>False</td>\n",
       "      <td>False</td>\n",
       "      <td>False</td>\n",
       "      <td>False</td>\n",
       "      <td>False</td>\n",
       "      <td>False</td>\n",
       "      <td>False</td>\n",
       "      <td>False</td>\n",
       "      <td>False</td>\n",
       "      <td>False</td>\n",
       "      <td>False</td>\n",
       "    </tr>\n",
       "    <tr>\n",
       "      <th>3</th>\n",
       "      <td>False</td>\n",
       "      <td>False</td>\n",
       "      <td>False</td>\n",
       "      <td>False</td>\n",
       "      <td>False</td>\n",
       "      <td>False</td>\n",
       "      <td>False</td>\n",
       "      <td>False</td>\n",
       "      <td>False</td>\n",
       "      <td>False</td>\n",
       "      <td>False</td>\n",
       "      <td>False</td>\n",
       "      <td>False</td>\n",
       "      <td>False</td>\n",
       "      <td>False</td>\n",
       "      <td>False</td>\n",
       "      <td>False</td>\n",
       "      <td>False</td>\n",
       "    </tr>\n",
       "    <tr>\n",
       "      <th>4</th>\n",
       "      <td>False</td>\n",
       "      <td>False</td>\n",
       "      <td>False</td>\n",
       "      <td>False</td>\n",
       "      <td>False</td>\n",
       "      <td>False</td>\n",
       "      <td>False</td>\n",
       "      <td>False</td>\n",
       "      <td>False</td>\n",
       "      <td>False</td>\n",
       "      <td>False</td>\n",
       "      <td>False</td>\n",
       "      <td>False</td>\n",
       "      <td>False</td>\n",
       "      <td>False</td>\n",
       "      <td>False</td>\n",
       "      <td>False</td>\n",
       "      <td>False</td>\n",
       "    </tr>\n",
       "    <tr>\n",
       "      <th>...</th>\n",
       "      <td>...</td>\n",
       "      <td>...</td>\n",
       "      <td>...</td>\n",
       "      <td>...</td>\n",
       "      <td>...</td>\n",
       "      <td>...</td>\n",
       "      <td>...</td>\n",
       "      <td>...</td>\n",
       "      <td>...</td>\n",
       "      <td>...</td>\n",
       "      <td>...</td>\n",
       "      <td>...</td>\n",
       "      <td>...</td>\n",
       "      <td>...</td>\n",
       "      <td>...</td>\n",
       "      <td>...</td>\n",
       "      <td>...</td>\n",
       "      <td>...</td>\n",
       "    </tr>\n",
       "    <tr>\n",
       "      <th>31042</th>\n",
       "      <td>False</td>\n",
       "      <td>False</td>\n",
       "      <td>False</td>\n",
       "      <td>False</td>\n",
       "      <td>False</td>\n",
       "      <td>False</td>\n",
       "      <td>False</td>\n",
       "      <td>False</td>\n",
       "      <td>False</td>\n",
       "      <td>False</td>\n",
       "      <td>False</td>\n",
       "      <td>False</td>\n",
       "      <td>False</td>\n",
       "      <td>False</td>\n",
       "      <td>False</td>\n",
       "      <td>False</td>\n",
       "      <td>False</td>\n",
       "      <td>False</td>\n",
       "    </tr>\n",
       "    <tr>\n",
       "      <th>31043</th>\n",
       "      <td>False</td>\n",
       "      <td>False</td>\n",
       "      <td>False</td>\n",
       "      <td>False</td>\n",
       "      <td>False</td>\n",
       "      <td>False</td>\n",
       "      <td>False</td>\n",
       "      <td>False</td>\n",
       "      <td>False</td>\n",
       "      <td>False</td>\n",
       "      <td>False</td>\n",
       "      <td>False</td>\n",
       "      <td>False</td>\n",
       "      <td>False</td>\n",
       "      <td>False</td>\n",
       "      <td>False</td>\n",
       "      <td>False</td>\n",
       "      <td>False</td>\n",
       "    </tr>\n",
       "    <tr>\n",
       "      <th>31044</th>\n",
       "      <td>False</td>\n",
       "      <td>False</td>\n",
       "      <td>False</td>\n",
       "      <td>False</td>\n",
       "      <td>False</td>\n",
       "      <td>False</td>\n",
       "      <td>False</td>\n",
       "      <td>False</td>\n",
       "      <td>False</td>\n",
       "      <td>False</td>\n",
       "      <td>False</td>\n",
       "      <td>False</td>\n",
       "      <td>False</td>\n",
       "      <td>False</td>\n",
       "      <td>False</td>\n",
       "      <td>False</td>\n",
       "      <td>False</td>\n",
       "      <td>False</td>\n",
       "    </tr>\n",
       "    <tr>\n",
       "      <th>31045</th>\n",
       "      <td>False</td>\n",
       "      <td>False</td>\n",
       "      <td>False</td>\n",
       "      <td>False</td>\n",
       "      <td>False</td>\n",
       "      <td>False</td>\n",
       "      <td>False</td>\n",
       "      <td>False</td>\n",
       "      <td>False</td>\n",
       "      <td>False</td>\n",
       "      <td>False</td>\n",
       "      <td>False</td>\n",
       "      <td>False</td>\n",
       "      <td>False</td>\n",
       "      <td>False</td>\n",
       "      <td>False</td>\n",
       "      <td>False</td>\n",
       "      <td>False</td>\n",
       "    </tr>\n",
       "    <tr>\n",
       "      <th>31046</th>\n",
       "      <td>False</td>\n",
       "      <td>False</td>\n",
       "      <td>False</td>\n",
       "      <td>False</td>\n",
       "      <td>False</td>\n",
       "      <td>False</td>\n",
       "      <td>False</td>\n",
       "      <td>False</td>\n",
       "      <td>False</td>\n",
       "      <td>False</td>\n",
       "      <td>False</td>\n",
       "      <td>False</td>\n",
       "      <td>False</td>\n",
       "      <td>False</td>\n",
       "      <td>False</td>\n",
       "      <td>False</td>\n",
       "      <td>False</td>\n",
       "      <td>False</td>\n",
       "    </tr>\n",
       "  </tbody>\n",
       "</table>\n",
       "<p>31047 rows × 18 columns</p>\n",
       "</div>"
      ],
      "text/plain": [
       "       index  Order ID  Cust ID  Gender    Age  Age Group   Date  Status  \\\n",
       "0      False     False    False   False  False      False  False   False   \n",
       "1      False     False    False   False  False      False  False   False   \n",
       "2      False     False    False   False  False      False  False   False   \n",
       "3      False     False    False   False  False      False  False   False   \n",
       "4      False     False    False   False  False      False  False   False   \n",
       "...      ...       ...      ...     ...    ...        ...    ...     ...   \n",
       "31042  False     False    False   False  False      False  False   False   \n",
       "31043  False     False    False   False  False      False  False   False   \n",
       "31044  False     False    False   False  False      False  False   False   \n",
       "31045  False     False    False   False  False      False  False   False   \n",
       "31046  False     False    False   False  False      False  False   False   \n",
       "\n",
       "       Channel   Category   Size    Qty  currency  Amount  ship-city  \\\n",
       "0         False     False  False  False     False   False      False   \n",
       "1         False     False  False  False     False   False      False   \n",
       "2         False     False  False  False     False   False      False   \n",
       "3         False     False  False  False     False   False      False   \n",
       "4         False     False  False  False     False   False      False   \n",
       "...         ...       ...    ...    ...       ...     ...        ...   \n",
       "31042     False     False  False  False     False   False      False   \n",
       "31043     False     False  False  False     False   False      False   \n",
       "31044     False     False  False  False     False   False      False   \n",
       "31045     False     False  False  False     False   False      False   \n",
       "31046     False     False  False  False     False   False      False   \n",
       "\n",
       "       ship-state  ship-postal-code  ship-country  \n",
       "0           False             False         False  \n",
       "1           False             False         False  \n",
       "2           False             False         False  \n",
       "3           False             False         False  \n",
       "4           False             False         False  \n",
       "...           ...               ...           ...  \n",
       "31042       False             False         False  \n",
       "31043       False             False         False  \n",
       "31044       False             False         False  \n",
       "31045       False             False         False  \n",
       "31046       False             False         False  \n",
       "\n",
       "[31047 rows x 18 columns]"
      ]
     },
     "execution_count": 32,
     "metadata": {},
     "output_type": "execute_result"
    }
   ],
   "source": [
    "pd.isnull(df)"
   ]
  },
  {
   "cell_type": "markdown",
   "id": "a12d150f",
   "metadata": {},
   "source": [
    "#### To check the SUM of 'NULL' columns :"
   ]
  },
  {
   "cell_type": "code",
   "execution_count": 33,
   "id": "fd4810df",
   "metadata": {},
   "outputs": [
    {
     "data": {
      "text/plain": [
       "index               0\n",
       "Order ID            0\n",
       "Cust ID             0\n",
       "Gender              0\n",
       "Age                 0\n",
       "Age Group           0\n",
       "Date                0\n",
       "Status              0\n",
       "Channel             0\n",
       "Category            0\n",
       "Size                0\n",
       "Qty                 0\n",
       "currency            0\n",
       "Amount              0\n",
       "ship-city           0\n",
       "ship-state          0\n",
       "ship-postal-code    0\n",
       "ship-country        0\n",
       "dtype: int64"
      ]
     },
     "execution_count": 33,
     "metadata": {},
     "output_type": "execute_result"
    }
   ],
   "source": [
    "pd.isnull(df).sum()"
   ]
  },
  {
   "cell_type": "markdown",
   "id": "378e6538",
   "metadata": {},
   "source": [
    "#### To view COLUMN NAMES from the DATA FRAME(df) :"
   ]
  },
  {
   "cell_type": "code",
   "execution_count": 34,
   "id": "804aebab",
   "metadata": {},
   "outputs": [
    {
     "data": {
      "text/plain": [
       "Index(['index', 'Order ID', 'Cust ID', 'Gender', 'Age', 'Age Group', 'Date',\n",
       "       'Status', 'Channel ', 'Category', 'Size', 'Qty', 'currency', 'Amount',\n",
       "       'ship-city', 'ship-state', 'ship-postal-code', 'ship-country'],\n",
       "      dtype='object')"
      ]
     },
     "execution_count": 34,
     "metadata": {},
     "output_type": "execute_result"
    }
   ],
   "source": [
    "df.columns"
   ]
  },
  {
   "cell_type": "markdown",
   "id": "bc35b8e3",
   "metadata": {},
   "source": [
    "#### To rename the column name :"
   ]
  },
  {
   "cell_type": "code",
   "execution_count": 35,
   "id": "8d1a7602",
   "metadata": {},
   "outputs": [],
   "source": [
    "df.rename(columns={'ship-postal-code':'ship-zip-code'},inplace=True) "
   ]
  },
  {
   "cell_type": "markdown",
   "id": "a6aca8e2",
   "metadata": {},
   "source": [
    "#### To check the \"renamed\" column \"name\" with all other columns from the Data Frame (df) :"
   ]
  },
  {
   "cell_type": "code",
   "execution_count": 14,
   "id": "0fcace89",
   "metadata": {},
   "outputs": [
    {
     "data": {
      "text/plain": [
       "Index(['index', 'Order ID', 'Cust ID', 'Gender', 'Age', 'Age Group', 'Date',\n",
       "       'Status', 'Channel ', 'Category', 'Size', 'Qty', 'currency', 'Amount',\n",
       "       'ship-city', 'ship-state', 'ship-zip-code', 'ship-country'],\n",
       "      dtype='object')"
      ]
     },
     "execution_count": 14,
     "metadata": {},
     "output_type": "execute_result"
    }
   ],
   "source": [
    "df.columns"
   ]
  },
  {
   "cell_type": "markdown",
   "id": "b54338ab",
   "metadata": {},
   "source": [
    "#### To describe those COLUMNS which stores NUMERIC values :"
   ]
  },
  {
   "cell_type": "code",
   "execution_count": 15,
   "id": "606c5927",
   "metadata": {
    "scrolled": true
   },
   "outputs": [
    {
     "data": {
      "text/html": [
       "<div>\n",
       "<style scoped>\n",
       "    .dataframe tbody tr th:only-of-type {\n",
       "        vertical-align: middle;\n",
       "    }\n",
       "\n",
       "    .dataframe tbody tr th {\n",
       "        vertical-align: top;\n",
       "    }\n",
       "\n",
       "    .dataframe thead th {\n",
       "        text-align: right;\n",
       "    }\n",
       "</style>\n",
       "<table border=\"1\" class=\"dataframe\">\n",
       "  <thead>\n",
       "    <tr style=\"text-align: right;\">\n",
       "      <th></th>\n",
       "      <th>index</th>\n",
       "      <th>Cust ID</th>\n",
       "      <th>Age</th>\n",
       "      <th>Qty</th>\n",
       "      <th>Amount</th>\n",
       "      <th>ship-zip-code</th>\n",
       "    </tr>\n",
       "  </thead>\n",
       "  <tbody>\n",
       "    <tr>\n",
       "      <th>count</th>\n",
       "      <td>31047.00000</td>\n",
       "      <td>3.104700e+04</td>\n",
       "      <td>31047.000000</td>\n",
       "      <td>31047.000000</td>\n",
       "      <td>31047.000000</td>\n",
       "      <td>31047.000000</td>\n",
       "    </tr>\n",
       "    <tr>\n",
       "      <th>mean</th>\n",
       "      <td>15524.00000</td>\n",
       "      <td>4.936824e+06</td>\n",
       "      <td>39.496570</td>\n",
       "      <td>1.006120</td>\n",
       "      <td>682.074822</td>\n",
       "      <td>460474.587206</td>\n",
       "    </tr>\n",
       "    <tr>\n",
       "      <th>std</th>\n",
       "      <td>8962.64124</td>\n",
       "      <td>2.900678e+06</td>\n",
       "      <td>15.117233</td>\n",
       "      <td>0.094088</td>\n",
       "      <td>268.582173</td>\n",
       "      <td>198116.733009</td>\n",
       "    </tr>\n",
       "    <tr>\n",
       "      <th>min</th>\n",
       "      <td>1.00000</td>\n",
       "      <td>8.950000e+02</td>\n",
       "      <td>18.000000</td>\n",
       "      <td>1.000000</td>\n",
       "      <td>229.000000</td>\n",
       "      <td>110001.000000</td>\n",
       "    </tr>\n",
       "    <tr>\n",
       "      <th>25%</th>\n",
       "      <td>7762.50000</td>\n",
       "      <td>2.416471e+06</td>\n",
       "      <td>28.000000</td>\n",
       "      <td>1.000000</td>\n",
       "      <td>486.000000</td>\n",
       "      <td>313001.000000</td>\n",
       "    </tr>\n",
       "    <tr>\n",
       "      <th>50%</th>\n",
       "      <td>15524.00000</td>\n",
       "      <td>4.909885e+06</td>\n",
       "      <td>37.000000</td>\n",
       "      <td>1.000000</td>\n",
       "      <td>646.000000</td>\n",
       "      <td>500028.000000</td>\n",
       "    </tr>\n",
       "    <tr>\n",
       "      <th>75%</th>\n",
       "      <td>23285.50000</td>\n",
       "      <td>7.454182e+06</td>\n",
       "      <td>47.000000</td>\n",
       "      <td>1.000000</td>\n",
       "      <td>794.000000</td>\n",
       "      <td>600040.000000</td>\n",
       "    </tr>\n",
       "    <tr>\n",
       "      <th>max</th>\n",
       "      <td>31047.00000</td>\n",
       "      <td>9.999233e+06</td>\n",
       "      <td>78.000000</td>\n",
       "      <td>5.000000</td>\n",
       "      <td>3036.000000</td>\n",
       "      <td>855117.000000</td>\n",
       "    </tr>\n",
       "  </tbody>\n",
       "</table>\n",
       "</div>"
      ],
      "text/plain": [
       "             index       Cust ID           Age           Qty        Amount  \\\n",
       "count  31047.00000  3.104700e+04  31047.000000  31047.000000  31047.000000   \n",
       "mean   15524.00000  4.936824e+06     39.496570      1.006120    682.074822   \n",
       "std     8962.64124  2.900678e+06     15.117233      0.094088    268.582173   \n",
       "min        1.00000  8.950000e+02     18.000000      1.000000    229.000000   \n",
       "25%     7762.50000  2.416471e+06     28.000000      1.000000    486.000000   \n",
       "50%    15524.00000  4.909885e+06     37.000000      1.000000    646.000000   \n",
       "75%    23285.50000  7.454182e+06     47.000000      1.000000    794.000000   \n",
       "max    31047.00000  9.999233e+06     78.000000      5.000000   3036.000000   \n",
       "\n",
       "       ship-zip-code  \n",
       "count   31047.000000  \n",
       "mean   460474.587206  \n",
       "std    198116.733009  \n",
       "min    110001.000000  \n",
       "25%    313001.000000  \n",
       "50%    500028.000000  \n",
       "75%    600040.000000  \n",
       "max    855117.000000  "
      ]
     },
     "execution_count": 15,
     "metadata": {},
     "output_type": "execute_result"
    }
   ],
   "source": [
    "df.describe()"
   ]
  },
  {
   "cell_type": "markdown",
   "id": "5bcbad09",
   "metadata": {},
   "source": [
    "#### To view selected numeric columns from all columns :"
   ]
  },
  {
   "cell_type": "code",
   "execution_count": 21,
   "id": "d059c715",
   "metadata": {},
   "outputs": [
    {
     "data": {
      "text/html": [
       "<div>\n",
       "<style scoped>\n",
       "    .dataframe tbody tr th:only-of-type {\n",
       "        vertical-align: middle;\n",
       "    }\n",
       "\n",
       "    .dataframe tbody tr th {\n",
       "        vertical-align: top;\n",
       "    }\n",
       "\n",
       "    .dataframe thead th {\n",
       "        text-align: right;\n",
       "    }\n",
       "</style>\n",
       "<table border=\"1\" class=\"dataframe\">\n",
       "  <thead>\n",
       "    <tr style=\"text-align: right;\">\n",
       "      <th></th>\n",
       "      <th>Age</th>\n",
       "      <th>Amount</th>\n",
       "      <th>Qty</th>\n",
       "    </tr>\n",
       "  </thead>\n",
       "  <tbody>\n",
       "    <tr>\n",
       "      <th>count</th>\n",
       "      <td>31047.000000</td>\n",
       "      <td>31047.000000</td>\n",
       "      <td>31047.000000</td>\n",
       "    </tr>\n",
       "    <tr>\n",
       "      <th>mean</th>\n",
       "      <td>39.496570</td>\n",
       "      <td>682.074822</td>\n",
       "      <td>1.006120</td>\n",
       "    </tr>\n",
       "    <tr>\n",
       "      <th>std</th>\n",
       "      <td>15.117233</td>\n",
       "      <td>268.582173</td>\n",
       "      <td>0.094088</td>\n",
       "    </tr>\n",
       "    <tr>\n",
       "      <th>min</th>\n",
       "      <td>18.000000</td>\n",
       "      <td>229.000000</td>\n",
       "      <td>1.000000</td>\n",
       "    </tr>\n",
       "    <tr>\n",
       "      <th>25%</th>\n",
       "      <td>28.000000</td>\n",
       "      <td>486.000000</td>\n",
       "      <td>1.000000</td>\n",
       "    </tr>\n",
       "    <tr>\n",
       "      <th>50%</th>\n",
       "      <td>37.000000</td>\n",
       "      <td>646.000000</td>\n",
       "      <td>1.000000</td>\n",
       "    </tr>\n",
       "    <tr>\n",
       "      <th>75%</th>\n",
       "      <td>47.000000</td>\n",
       "      <td>794.000000</td>\n",
       "      <td>1.000000</td>\n",
       "    </tr>\n",
       "    <tr>\n",
       "      <th>max</th>\n",
       "      <td>78.000000</td>\n",
       "      <td>3036.000000</td>\n",
       "      <td>5.000000</td>\n",
       "    </tr>\n",
       "  </tbody>\n",
       "</table>\n",
       "</div>"
      ],
      "text/plain": [
       "                Age        Amount           Qty\n",
       "count  31047.000000  31047.000000  31047.000000\n",
       "mean      39.496570    682.074822      1.006120\n",
       "std       15.117233    268.582173      0.094088\n",
       "min       18.000000    229.000000      1.000000\n",
       "25%       28.000000    486.000000      1.000000\n",
       "50%       37.000000    646.000000      1.000000\n",
       "75%       47.000000    794.000000      1.000000\n",
       "max       78.000000   3036.000000      5.000000"
      ]
     },
     "execution_count": 21,
     "metadata": {},
     "output_type": "execute_result"
    }
   ],
   "source": [
    "df[['Age','Amount','Qty']].describe()"
   ]
  },
  {
   "cell_type": "markdown",
   "id": "adedc621",
   "metadata": {},
   "source": [
    "# EDA (EXPLORATORY DATA ANALYSIS) "
   ]
  },
  {
   "cell_type": "markdown",
   "id": "7b8ea39d",
   "metadata": {},
   "source": [
    "#### Graphical representation of data from DATA FRAME(df) we use 'SEABORN'(sns) :"
   ]
  },
  {
   "cell_type": "code",
   "execution_count": 30,
   "id": "7b0cbbf0",
   "metadata": {},
   "outputs": [
    {
     "data": {
      "text/plain": [
       "<AxesSubplot:xlabel='Gender', ylabel='count'>"
      ]
     },
     "execution_count": 30,
     "metadata": {},
     "output_type": "execute_result"
    },
    {
     "data": {
      "image/png": "[encoded data removed]",
      "text/plain": [
       "<Figure size 432x288 with 1 Axes>"
      ]
     },
     "metadata": {
      "needs_background": "light"
     },
     "output_type": "display_data"
    }
   ],
   "source": [
    "sns.countplot(x='Gender', data=df)"
   ]
  },
  {
   "cell_type": "markdown",
   "id": "d5a310a5",
   "metadata": {},
   "source": [
    "#### To give the LABEL on the top of the GENDER bars :"
   ]
  },
  {
   "cell_type": "code",
   "execution_count": 32,
   "id": "85680a56",
   "metadata": {},
   "outputs": [
    {
     "data": {
      "image/png": "[encoded data removed]",
      "text/plain": [
       "<Figure size 432x288 with 1 Axes>"
      ]
     },
     "metadata": {
      "needs_background": "light"
     },
     "output_type": "display_data"
    }
   ],
   "source": [
    "ax = sns.countplot(x='Gender', data=df)\n",
    "\n",
    "for bars in ax.containers:\n",
    "    ax.bar_label(bars)"
   ]
  },
  {
   "cell_type": "code",
   "execution_count": 36,
   "id": "2533351c",
   "metadata": {},
   "outputs": [
    {
     "data": {
      "text/plain": [
       "<AxesSubplot:xlabel='Gender', ylabel='Amount'>"
      ]
     },
     "execution_count": 36,
     "metadata": {},
     "output_type": "execute_result"
    },
    {
     "data": {
      "image/png": "[encoded data removed]",
      "text/plain": [
       "<Figure size 432x288 with 1 Axes>"
      ]
     },
     "metadata": {
      "needs_background": "light"
     },
     "output_type": "display_data"
    }
   ],
   "source": [
    "sales_gen = df.groupby(['Gender'], as_index=False)['Amount'].sum().sort_values(by='Amount',ascending=False)\n",
    "sns.barplot(x = 'Gender', y = 'Amount', data = sales_gen)    "
   ]
  },
  {
   "cell_type": "markdown",
   "id": "72cb6bba",
   "metadata": {},
   "source": [
    "#### From the above graphs we can see that Women are buying more Amount than Men."
   ]
  },
  {
   "cell_type": "code",
   "execution_count": 42,
   "id": "dbb301c0",
   "metadata": {},
   "outputs": [
    {
     "data": {
      "image/png": "[encoded data removed]",
      "text/plain": [
       "<Figure size 432x288 with 1 Axes>"
      ]
     },
     "metadata": {
      "needs_background": "light"
     },
     "output_type": "display_data"
    }
   ],
   "source": [
    "ax = sns.countplot(data = df, x = 'Age Group', hue = 'Gender')\n",
    "\n",
    "for bars in ax.containers :\n",
    "    ax.bar_label(bars)"
   ]
  },
  {
   "cell_type": "markdown",
   "id": "b2316d1b",
   "metadata": {},
   "source": [
    "#### Abobe graphs are showing that Adult Women are buying maximum Counts of products. Another thing we can see through those graphs in every category like as Adult, Teenager and Senior Women are buying more products than Men."
   ]
  },
  {
   "cell_type": "markdown",
   "id": "fea07deb",
   "metadata": {},
   "source": [
    "#### Total Amount : Age Group :-"
   ]
  },
  {
   "cell_type": "code",
   "execution_count": 45,
   "id": "18e963ea",
   "metadata": {},
   "outputs": [
    {
     "data": {
      "text/plain": [
       "<AxesSubplot:xlabel='Age Group', ylabel='Amount'>"
      ]
     },
     "execution_count": 45,
     "metadata": {},
     "output_type": "execute_result"
    },
    {
     "data": {
      "image/png": "[encoded data removed]",
      "text/plain": [
       "<Figure size 432x288 with 1 Axes>"
      ]
     },
     "metadata": {
      "needs_background": "light"
     },
     "output_type": "display_data"
    }
   ],
   "source": [
    "sales_age = df.groupby(['Age Group'], as_index = False) ['Amount'].sum().sort_values(by = 'Amount', ascending = False)\n",
    "\n",
    "sns.barplot(x = 'Age Group', y = 'Amount', data = sales_age)"
   ]
  },
  {
   "cell_type": "markdown",
   "id": "f3cb447f",
   "metadata": {},
   "source": [
    "#### Above ghaphs are showing that Adult (Women + Men) category is buying more than other Two categories (Teenager and Senior)"
   ]
  },
  {
   "cell_type": "markdown",
   "id": "82b95751",
   "metadata": {},
   "source": [
    "### State :"
   ]
  },
  {
   "cell_type": "code",
   "execution_count": 40,
   "id": "63a8c2bc",
   "metadata": {},
   "outputs": [
    {
     "data": {
      "text/plain": [
       "Index(['index', 'Order ID', 'Cust ID', 'Gender', 'Age', 'Age Group', 'Date',\n",
       "       'Status', 'Channel ', 'Category', 'Size', 'Qty', 'currency', 'Amount',\n",
       "       'ship-city', 'state', 'ship-zip-code', 'ship-country'],\n",
       "      dtype='object')"
      ]
     },
     "execution_count": 40,
     "metadata": {},
     "output_type": "execute_result"
    }
   ],
   "source": [
    "df.columns"
   ]
  },
  {
   "cell_type": "code",
   "execution_count": 48,
   "id": "207406e2",
   "metadata": {},
   "outputs": [],
   "source": [
    "df.rename(columns={'ship-state':'state'},inplace=True) "
   ]
  },
  {
   "cell_type": "markdown",
   "id": "fcf047e9",
   "metadata": {},
   "source": [
    "#### Total number of buying amounts from Top 10 States :"
   ]
  },
  {
   "cell_type": "code",
   "execution_count": 47,
   "id": "055fc7ed",
   "metadata": {},
   "outputs": [
    {
     "data": {
      "text/plain": [
       "<AxesSubplot:xlabel='state', ylabel='Amount'>"
      ]
     },
     "execution_count": 47,
     "metadata": {},
     "output_type": "execute_result"
    },
    {
     "data": {
      "image/png": "[encoded data removed]",
      "text/plain": [
       "<Figure size 1224x360 with 1 Axes>"
      ]
     },
     "metadata": {},
     "output_type": "display_data"
    }
   ],
   "source": [
    "sales_state = df.groupby(['state'], as_index = False) ['Amount'].sum().sort_values(by = 'Amount', ascending = False).head(10)\n",
    "\n",
    "sns.set(rc={'figure.figsize': (17,5)})\n",
    "sns.barplot(x = 'state', y = 'Amount', data = sales_state)"
   ]
  },
  {
   "cell_type": "markdown",
   "id": "da49c8a7",
   "metadata": {},
   "source": [
    "#### Total Quantity of Orders from Top 10 States :"
   ]
  },
  {
   "cell_type": "code",
   "execution_count": 80,
   "id": "a84b1129",
   "metadata": {},
   "outputs": [
    {
     "data": {
      "text/plain": [
       "<AxesSubplot:xlabel='state', ylabel='Qty'>"
      ]
     },
     "execution_count": 80,
     "metadata": {},
     "output_type": "execute_result"
    },
    {
     "data": {
      "image/png": "[encoded data removed]",
      "text/plain": [
       "<Figure size 1296x360 with 1 Axes>"
      ]
     },
     "metadata": {},
     "output_type": "display_data"
    }
   ],
   "source": [
    "sales_Qty = df.groupby(['state'], as_index = False) ['Qty'].sum().sort_values(by = 'Qty', ascending = False).head(10)\n",
    "\n",
    "sns.set(rc={'figure.figsize': (18,5)})\n",
    "sns.barplot(x = 'state', y = 'Qty', data = sales_Qty) "
   ]
  },
  {
   "cell_type": "code",
   "execution_count": null,
   "id": "4ad75623",
   "metadata": {},
   "outputs": [],
   "source": []
  }
 ],
 "metadata": {
  "kernelspec": {
   "display_name": "Python 3 (ipykernel)",
   "language": "python",
   "name": "python3"
  },
  "language_info": {
   "codemirror_mode": {
    "name": "ipython",
    "version": 3
   },
   "file_extension": ".py",
   "mimetype": "text/x-python",
   "name": "python",
   "nbconvert_exporter": "python",
   "pygments_lexer": "ipython3",
   "version": "3.9.7"
  }
 },
 "nbformat": 4,
 "nbformat_minor": 5
}
